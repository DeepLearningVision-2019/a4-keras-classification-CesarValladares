{
 "cells": [
  {
   "cell_type": "markdown",
   "metadata": {},
   "source": [
    "# Classify different data sets"
   ]
  },
  {
   "cell_type": "markdown",
   "metadata": {},
   "source": [
    "### Basic includes"
   ]
  },
  {
   "cell_type": "code",
   "execution_count": 189,
   "metadata": {},
   "outputs": [],
   "source": [
    "# Using pandas to load the csv file\n",
    "import pandas as pd\n",
    "\n",
    "import numpy as np\n",
    "import matplotlib.pyplot as plt\n",
    "\n",
    "from keras import models \n",
    "from keras import layers \n",
    "from keras import callbacks\n",
    "from keras.utils import to_categorical\n",
    "\n",
    "# reuters and fashin mnist data set from keras\n",
    "from keras.datasets import reuters\n",
    "from keras.datasets import fashion_mnist\n",
    "\n",
    "# needed to preprocess text\n",
    "from keras.preprocessing.text import Tokenizer"
   ]
  },
  {
   "cell_type": "markdown",
   "metadata": {},
   "source": [
    "### Classify the Fashion Mnist\n",
    "\n",
    "---"
   ]
  },
  {
   "cell_type": "code",
   "execution_count": 190,
   "metadata": {},
   "outputs": [
    {
     "name": "stdout",
     "output_type": "stream",
     "text": [
      "(60000, 28, 28)\n"
     ]
    },
    {
     "data": {
      "text/plain": [
       "<matplotlib.image.AxesImage at 0x7f0ec91db940>"
      ]
     },
     "execution_count": 190,
     "metadata": {},
     "output_type": "execute_result"
    },
    {
     "data": {
      "image/png": "[encoded data removed]",
      "text/plain": [
       "<Figure size 432x288 with 1 Axes>"
      ]
     },
     "metadata": {
      "needs_background": "light"
     },
     "output_type": "display_data"
    }
   ],
   "source": [
    "(fashion_train_data, fashion_train_labels), (fashion_test_data, fashion_test_labels) = fashion_mnist.load_data()\n",
    "\n",
    "print(fashion_train_data.shape)\n",
    "\n",
    "test_index = 10\n",
    "\n",
    "plt.title(\"Label: \" + str(fashion_train_labels[test_index]))\n",
    "plt.imshow(fashion_train_data[test_index], cmap=\"gray\")"
   ]
  },
  {
   "cell_type": "markdown",
   "metadata": {},
   "source": [
    "#### TO DO: Preprocess the data\n",
    "\n",
    "1. Normalize the input data set\n",
    "2. Perform one hot encoding\n",
    "3. Create a train, test, and validation set"
   ]
  },
  {
   "cell_type": "code",
   "execution_count": 191,
   "metadata": {},
   "outputs": [
    {
     "name": "stdout",
     "output_type": "stream",
     "text": [
      "(10,)\n"
     ]
    }
   ],
   "source": [
    "fashion_train_data = fashion_train_data.reshape((60000, 28 * 28))\n",
    "fashion_train_data = fashion_train_data.astype('float32') / 255 \n",
    "\n",
    "# same starndadization for the test images\n",
    "fashion_test_data = fashion_test_data.reshape((10000, 28 * 28)) \n",
    "fashion_test_data = fashion_test_data.astype('float32') / 255\n",
    "\n",
    "# one hot encoding\n",
    "fashion_train_labels = to_categorical(fashion_train_labels) \n",
    "fashion_test_labels = to_categorical(fashion_test_labels)\n",
    "\n",
    "validation_data = fashion_train_data[:10000]\n",
    "validation_labels = fashion_train_labels[:10000]\n",
    "\n",
    "x_data = fashion_train_data[50000:]\n",
    "y_data = fashion_train_labels[50000:]\n",
    "\n",
    "print(fashion_train_labels[0].shape)"
   ]
  },
  {
   "cell_type": "markdown",
   "metadata": {},
   "source": [
    "#### TO DO: Define and train a network, then plot the accuracy of the training, validation, and testing\n",
    "\n",
    "1. Use a validation set\n",
    "2. Propose and train a network\n",
    "3. Print the history of the training\n",
    "4. Evaluate with a test set"
   ]
  },
  {
   "cell_type": "code",
   "execution_count": 192,
   "metadata": {},
   "outputs": [
    {
     "name": "stdout",
     "output_type": "stream",
     "text": [
      "_________________________________________________________________\n",
      "Layer (type)                 Output Shape              Param #   \n",
      "=================================================================\n",
      "dense_87 (Dense)             (None, 128)               100480    \n",
      "_________________________________________________________________\n",
      "dense_88 (Dense)             (None, 64)                8256      \n",
      "_________________________________________________________________\n",
      "dense_89 (Dense)             (None, 32)                2080      \n",
      "_________________________________________________________________\n",
      "dense_90 (Dense)             (None, 10)                330       \n",
      "=================================================================\n",
      "Total params: 111,146\n",
      "Trainable params: 111,146\n",
      "Non-trainable params: 0\n",
      "_________________________________________________________________\n"
     ]
    }
   ],
   "source": [
    "# The keras.models.Sequential class is a wrapper for the neural network model that treats \n",
    "# the network as a sequence of layers\n",
    "network = models.Sequential()\n",
    "\n",
    "# Dense layers: fully connected layers\n",
    "network.add(layers.Dense(128, activation='relu', input_shape=(28 * 28,))) \n",
    "network.add(layers.Dense(64, activation='relu'))\n",
    "network.add(layers.Dense(32, activation='relu'))\n",
    "network.add(layers.Dense(10, activation='softmax'))\n",
    "\n",
    "network.compile(optimizer='rmsprop', loss='categorical_crossentropy', metrics=['accuracy'])\n",
    "\n",
    "network.summary()"
   ]
  },
  {
   "cell_type": "code",
   "execution_count": 193,
   "metadata": {},
   "outputs": [
    {
     "name": "stdout",
     "output_type": "stream",
     "text": [
      "Train on 48000 samples, validate on 12000 samples\n",
      "Epoch 1/50\n",
      " - 2s - loss: 0.8408 - acc: 0.7022 - val_loss: 0.5891 - val_acc: 0.7841\n",
      "Epoch 2/50\n",
      " - 1s - loss: 0.5258 - acc: 0.8114 - val_loss: 0.4735 - val_acc: 0.8314\n",
      "Epoch 3/50\n",
      " - 1s - loss: 0.4618 - acc: 0.8349 - val_loss: 0.4264 - val_acc: 0.8496\n",
      "Epoch 4/50\n",
      " - 1s - loss: 0.4205 - acc: 0.8485 - val_loss: 0.4379 - val_acc: 0.8445\n",
      "Epoch 5/50\n",
      " - 1s - loss: 0.3930 - acc: 0.8571 - val_loss: 0.3876 - val_acc: 0.8619\n",
      "Epoch 6/50\n",
      " - 1s - loss: 0.3658 - acc: 0.8669 - val_loss: 0.3583 - val_acc: 0.8705\n",
      "Epoch 7/50\n",
      " - 1s - loss: 0.3506 - acc: 0.8698 - val_loss: 0.3512 - val_acc: 0.8737\n",
      "Epoch 8/50\n",
      " - 1s - loss: 0.3342 - acc: 0.8760 - val_loss: 0.4034 - val_acc: 0.8472\n",
      "Epoch 9/50\n",
      " - 0s - loss: 0.3190 - acc: 0.8822 - val_loss: 0.3571 - val_acc: 0.8717\n",
      "Epoch 10/50\n",
      " - 0s - loss: 0.3097 - acc: 0.8842 - val_loss: 0.3573 - val_acc: 0.8693\n",
      "Epoch 11/50\n",
      " - 1s - loss: 0.2970 - acc: 0.8891 - val_loss: 0.3763 - val_acc: 0.8625\n",
      "Epoch 12/50\n",
      " - 0s - loss: 0.2903 - acc: 0.8920 - val_loss: 0.3599 - val_acc: 0.8648\n",
      "Epoch 13/50\n",
      " - 0s - loss: 0.2829 - acc: 0.8933 - val_loss: 0.3245 - val_acc: 0.8808\n",
      "Epoch 14/50\n",
      " - 1s - loss: 0.2704 - acc: 0.8987 - val_loss: 0.3212 - val_acc: 0.8827\n",
      "Epoch 15/50\n",
      " - 1s - loss: 0.2640 - acc: 0.9005 - val_loss: 0.3776 - val_acc: 0.8674\n",
      "Epoch 16/50\n",
      " - 1s - loss: 0.2595 - acc: 0.9020 - val_loss: 0.3508 - val_acc: 0.8776\n",
      "Epoch 17/50\n",
      " - 1s - loss: 0.2523 - acc: 0.9051 - val_loss: 0.3209 - val_acc: 0.8861\n",
      "Epoch 18/50\n",
      " - 1s - loss: 0.2454 - acc: 0.9075 - val_loss: 0.3664 - val_acc: 0.8739\n",
      "Epoch 19/50\n",
      " - 1s - loss: 0.2411 - acc: 0.9079 - val_loss: 0.3510 - val_acc: 0.8720\n",
      "Epoch 20/50\n",
      " - 0s - loss: 0.2366 - acc: 0.9098 - val_loss: 0.3494 - val_acc: 0.8774\n",
      "Epoch 21/50\n",
      " - 0s - loss: 0.2315 - acc: 0.9135 - val_loss: 0.3168 - val_acc: 0.8893\n",
      "Epoch 22/50\n",
      " - 0s - loss: 0.2252 - acc: 0.9139 - val_loss: 0.3231 - val_acc: 0.8903\n",
      "Epoch 23/50\n",
      " - 1s - loss: 0.2220 - acc: 0.9152 - val_loss: 0.3310 - val_acc: 0.8858\n",
      "Epoch 24/50\n",
      " - 1s - loss: 0.2178 - acc: 0.9173 - val_loss: 0.3255 - val_acc: 0.8860\n",
      "Epoch 25/50\n",
      " - 0s - loss: 0.2110 - acc: 0.9194 - val_loss: 0.3864 - val_acc: 0.8683\n",
      "Epoch 26/50\n",
      " - 0s - loss: 0.2080 - acc: 0.9212 - val_loss: 0.3222 - val_acc: 0.8890\n",
      "Epoch 27/50\n",
      " - 0s - loss: 0.2037 - acc: 0.9220 - val_loss: 0.3494 - val_acc: 0.8781\n",
      "Epoch 28/50\n",
      " - 0s - loss: 0.1979 - acc: 0.9239 - val_loss: 0.3449 - val_acc: 0.8835\n",
      "Epoch 29/50\n",
      " - 0s - loss: 0.1946 - acc: 0.9263 - val_loss: 0.3678 - val_acc: 0.8807\n",
      "Epoch 30/50\n",
      " - 0s - loss: 0.1930 - acc: 0.9274 - val_loss: 0.3305 - val_acc: 0.8903\n",
      "Epoch 31/50\n",
      " - 0s - loss: 0.1871 - acc: 0.9287 - val_loss: 0.3591 - val_acc: 0.8832\n",
      "Epoch 32/50\n",
      " - 0s - loss: 0.1839 - acc: 0.9296 - val_loss: 0.3355 - val_acc: 0.8902\n",
      "Epoch 33/50\n",
      " - 0s - loss: 0.1793 - acc: 0.9317 - val_loss: 0.3470 - val_acc: 0.8887\n",
      "Epoch 34/50\n",
      " - 0s - loss: 0.1782 - acc: 0.9316 - val_loss: 0.3449 - val_acc: 0.8864\n",
      "Epoch 35/50\n",
      " - 0s - loss: 0.1722 - acc: 0.9350 - val_loss: 0.3631 - val_acc: 0.8923\n",
      "Epoch 36/50\n",
      " - 1s - loss: 0.1698 - acc: 0.9349 - val_loss: 0.3397 - val_acc: 0.8893\n",
      "Epoch 37/50\n",
      " - 1s - loss: 0.1668 - acc: 0.9364 - val_loss: 0.3657 - val_acc: 0.8823\n",
      "Epoch 38/50\n",
      " - 1s - loss: 0.1627 - acc: 0.9377 - val_loss: 0.3594 - val_acc: 0.8877\n",
      "Epoch 39/50\n",
      " - 0s - loss: 0.1615 - acc: 0.9375 - val_loss: 0.3667 - val_acc: 0.8868\n",
      "Epoch 40/50\n",
      " - 1s - loss: 0.1578 - acc: 0.9405 - val_loss: 0.3602 - val_acc: 0.8887\n",
      "Epoch 41/50\n",
      " - 0s - loss: 0.1548 - acc: 0.9406 - val_loss: 0.3762 - val_acc: 0.8871\n",
      "Epoch 42/50\n",
      " - 0s - loss: 0.1530 - acc: 0.9415 - val_loss: 0.3778 - val_acc: 0.8883\n",
      "Epoch 43/50\n",
      " - 0s - loss: 0.1498 - acc: 0.9435 - val_loss: 0.3885 - val_acc: 0.8842\n",
      "Epoch 44/50\n",
      " - 0s - loss: 0.1463 - acc: 0.9451 - val_loss: 0.3928 - val_acc: 0.8893\n",
      "Epoch 45/50\n",
      " - 0s - loss: 0.1444 - acc: 0.9451 - val_loss: 0.3597 - val_acc: 0.8900\n",
      "Epoch 46/50\n",
      " - 0s - loss: 0.1404 - acc: 0.9475 - val_loss: 0.3964 - val_acc: 0.8849\n",
      "Epoch 47/50\n",
      " - 0s - loss: 0.1386 - acc: 0.9475 - val_loss: 0.4271 - val_acc: 0.8843\n",
      "Epoch 48/50\n",
      " - 1s - loss: 0.1347 - acc: 0.9497 - val_loss: 0.3951 - val_acc: 0.8852\n",
      "Epoch 49/50\n",
      " - 0s - loss: 0.1316 - acc: 0.9510 - val_loss: 0.4386 - val_acc: 0.8841\n",
      "Epoch 50/50\n",
      " - 0s - loss: 0.1311 - acc: 0.9498 - val_loss: 0.3933 - val_acc: 0.8908\n",
      "10000/10000 [==============================] - 0s 26us/step\n",
      "test loss:  0.4111886007785797 test accuracy:  0.8858\n"
     ]
    }
   ],
   "source": [
    "history = network.fit(fashion_train_data, fashion_train_labels,batch_size = 512, epochs=50, validation_split=0.2, verbose=2)\n",
    "\n",
    "test_loss, test_acc = network.evaluate(fashion_test_data, fashion_test_labels)\n",
    "\n",
    "print(\"test loss: \", test_loss, \"test accuracy: \", test_acc)"
   ]
  },
  {
   "cell_type": "markdown",
   "metadata": {},
   "source": [
    "## Classifying newswires\n",
    "\n",
    "---\n",
    "\n",
    "Build a network to classify Reuters newswires into 46 different mutually-exclusive topics."
   ]
  },
  {
   "cell_type": "markdown",
   "metadata": {},
   "source": [
    "### Load and review the data"
   ]
  },
  {
   "cell_type": "code",
   "execution_count": 194,
   "metadata": {},
   "outputs": [
    {
     "name": "stdout",
     "output_type": "stream",
     "text": [
      "(8982,)\n",
      "(8982,)\n",
      "[1, 2, 2, 8, 43, 10, 447, 5, 25, 207, 270, 5, 3095, 111, 16, 369, 186, 90, 67, 7, 89, 5, 19, 102, 6, 19, 124, 15, 90, 67, 84, 22, 482, 26, 7, 48, 4, 49, 8, 864, 39, 209, 154, 6, 151, 6, 83, 11, 15, 22, 155, 11, 15, 7, 48, 9, 4579, 1005, 504, 6, 258, 6, 272, 11, 15, 22, 134, 44, 11, 15, 16, 8, 197, 1245, 90, 67, 52, 29, 209, 30, 32, 132, 6, 109, 15, 17, 12]\n",
      "3\n",
      "{0, 1, 2, 3, 4, 5, 6, 7, 8, 9, 10, 11, 12, 13, 14, 15, 16, 17, 18, 19, 20, 21, 22, 23, 24, 25, 26, 27, 28, 29, 30, 31, 32, 33, 34, 35, 36, 37, 38, 39, 40, 41, 42, 43, 44, 45}\n"
     ]
    }
   ],
   "source": [
    "(reuters_train_data, reuters_train_labels), (reuters_test_data, reuters_test_labels) = reuters.load_data(num_words=10000)\n",
    "\n",
    "print(reuters_train_data.shape)\n",
    "print(reuters_train_labels.shape)\n",
    "print(reuters_train_data[0])\n",
    "print(reuters_train_labels[0])\n",
    "\n",
    "print(set(reuters_train_labels))"
   ]
  },
  {
   "cell_type": "markdown",
   "metadata": {},
   "source": [
    "Load the word index to decode the train data."
   ]
  },
  {
   "cell_type": "code",
   "execution_count": 195,
   "metadata": {},
   "outputs": [
    {
     "name": "stdout",
     "output_type": "stream",
     "text": [
      "(8982, 10000)\n",
      "(2246, 10000)\n",
      "(8982, 46)\n",
      "(2246, 46)\n",
      "<START> <UNKNOWN> <UNKNOWN> said as a result of its december acquisition of space co it expects earnings per share in 1987 of 1 15 to 1 30 dlrs per share up from 70 cts in 1986 the company said pretax net should rise to nine to 10 mln dlrs from six mln dlrs in 1986 and rental operation revenues to 19 to 22 mln dlrs from 12 5 mln dlrs it said cash flow per share this year should be 2 50 to three dlrs reuter 3\n"
     ]
    }
   ],
   "source": [
    "word_index = reuters.get_word_index()# Turning the output into vector mode, each of length 10000\n",
    "tokenizer = Tokenizer(num_words=10000)\n",
    "train_data_token = tokenizer.sequences_to_matrix(reuters_train_data, mode='count')\n",
    "test_data_token = tokenizer.sequences_to_matrix(reuters_test_data, mode='count')\n",
    "print(train_data_token.shape)\n",
    "print(test_data_token.shape)\n",
    "\n",
    "# One-hot encoding the output\n",
    "num_classes = 46\n",
    "one_hot_train_labels = to_categorical(reuters_train_labels,num_classes)\n",
    "one_hot_test_labels = to_categorical(reuters_test_labels, num_classes)\n",
    "print(one_hot_train_labels.shape)\n",
    "print(one_hot_test_labels.shape)\n",
    "\n",
    "# Creating a validation set with the first 1000 reviews\n",
    "# NOT USED\n",
    "validation_data = train_data_token[:1000]\n",
    "validation_labels = one_hot_train_labels[:1000]\n",
    "\n",
    "reverse_index = dict([(value+3, key) for (key, value) in word_index.items()])\n",
    "\n",
    "reverse_index[0] = \"<PAD>\"\n",
    "reverse_index[1] = \"<START>\"\n",
    "reverse_index[2] = \"<UNKNOWN>\"  # unknown\n",
    "reverse_index[3] = \"<UNUSED>\"\n",
    "\n",
    "decoded_review = ' '.join([reverse_index.get(i,'?') for i in reuters_train_data[0]])\n",
    "\n",
    "print(decoded_review)"
   ]
  },
  {
   "cell_type": "markdown",
   "metadata": {},
   "source": [
    "#### TO DO: Preprocess the data\n",
    "\n",
    "1. Normalize the input data set\n",
    "2. Perform one hot encoding\n",
    "3. Create a train, test, and validation set"
   ]
  },
  {
   "cell_type": "code",
   "execution_count": 196,
   "metadata": {},
   "outputs": [
    {
     "name": "stdout",
     "output_type": "stream",
     "text": [
      "(8982, 10000)\n",
      "(2246, 10000)\n",
      "(8982, 46)\n",
      "(2246, 46)\n"
     ]
    }
   ],
   "source": [
    "# Turning the output into vector mode, each of length 10000\n",
    "tokenizer = Tokenizer(num_words=10000)\n",
    "train_data_token = tokenizer.sequences_to_matrix(reuters_train_data, mode='binary')\n",
    "test_data_token = tokenizer.sequences_to_matrix(reuters_test_data, mode='binary')\n",
    "print(train_data_token.shape)\n",
    "print(test_data_token.shape)\n",
    "\n",
    "# One-hot encoding the output\n",
    "num_classes = 46\n",
    "one_hot_train_labels = to_categorical(reuters_train_labels,num_classes)\n",
    "one_hot_test_labels = to_categorical(reuters_test_labels, num_classes)\n",
    "print(one_hot_train_labels.shape)\n",
    "print(one_hot_test_labels.shape)\n",
    "\n",
    "# Creating a validation set with the first 1000 reviews\n",
    "# NOT USED\n",
    "validation_data = train_data_token[:1000]\n",
    "validation_labels = one_hot_train_labels[:1000]\n"
   ]
  },
  {
   "cell_type": "markdown",
   "metadata": {},
   "source": [
    "#### TO DO: Define and train a network, then plot the accuracy of the training, validation, and testing\n",
    "\n",
    "1. Use a validation set\n",
    "2. Propose and train a network\n",
    "3. Print the history of the training\n",
    "4. Evaluate with a test set"
   ]
  },
  {
   "cell_type": "code",
   "execution_count": 197,
   "metadata": {},
   "outputs": [
    {
     "name": "stdout",
     "output_type": "stream",
     "text": [
      "_________________________________________________________________\n",
      "Layer (type)                 Output Shape              Param #   \n",
      "=================================================================\n",
      "dense_91 (Dense)             (None, 128)               1280128   \n",
      "_________________________________________________________________\n",
      "dropout_50 (Dropout)         (None, 128)               0         \n",
      "_________________________________________________________________\n",
      "dense_92 (Dense)             (None, 64)                8256      \n",
      "_________________________________________________________________\n",
      "dropout_51 (Dropout)         (None, 64)                0         \n",
      "_________________________________________________________________\n",
      "dense_93 (Dense)             (None, 46)                2990      \n",
      "=================================================================\n",
      "Total params: 1,291,374\n",
      "Trainable params: 1,291,374\n",
      "Non-trainable params: 0\n",
      "_________________________________________________________________\n"
     ]
    }
   ],
   "source": [
    "network2 = models.Sequential()\n",
    "\n",
    "network2.add(layers.Dense(128, activation='relu', input_dim=10000))\n",
    "network2.add(layers.Dropout(0.3))\n",
    "network2.add(layers.Dense(64, activation='relu'))\n",
    "network2.add(layers.Dropout(0.3))\n",
    "network2.add(layers.Dense(num_classes, activation='softmax'))\n",
    "network2.summary()\n",
    "\n",
    "# included the early stopping which monitors the validation loss\n",
    "early_stop = callbacks.EarlyStopping(monitor='val_loss', patience=5)\n",
    "network2.compile(loss='categorical_crossentropy', \n",
    "              optimizer='rmsprop',\n",
    "              metrics=['accuracy'])"
   ]
  },
  {
   "cell_type": "code",
   "execution_count": 198,
   "metadata": {},
   "outputs": [
    {
     "name": "stdout",
     "output_type": "stream",
     "text": [
      "Train on 7185 samples, validate on 1797 samples\n",
      "Epoch 1/40\n",
      " - 2s - loss: 2.5539 - acc: 0.4553 - val_loss: 1.6511 - val_acc: 0.6561\n",
      "Epoch 2/40\n",
      " - 1s - loss: 1.5520 - acc: 0.6593 - val_loss: 1.3376 - val_acc: 0.6973\n",
      "Epoch 3/40\n",
      " - 1s - loss: 1.2427 - acc: 0.7250 - val_loss: 1.1932 - val_acc: 0.7357\n",
      "Epoch 4/40\n",
      " - 1s - loss: 1.0347 - acc: 0.7729 - val_loss: 1.1218 - val_acc: 0.7518\n",
      "Epoch 5/40\n",
      " - 1s - loss: 0.8862 - acc: 0.8054 - val_loss: 1.0284 - val_acc: 0.7802\n",
      "Epoch 6/40\n",
      " - 1s - loss: 0.7650 - acc: 0.8266 - val_loss: 0.9957 - val_acc: 0.7852\n",
      "Epoch 7/40\n",
      " - 1s - loss: 0.6656 - acc: 0.8493 - val_loss: 0.9758 - val_acc: 0.7908\n",
      "Epoch 8/40\n",
      " - 1s - loss: 0.5751 - acc: 0.8664 - val_loss: 0.9565 - val_acc: 0.7997\n",
      "Epoch 9/40\n",
      " - 1s - loss: 0.5208 - acc: 0.8828 - val_loss: 0.9681 - val_acc: 0.7947\n",
      "Epoch 10/40\n",
      " - 1s - loss: 0.4679 - acc: 0.8921 - val_loss: 0.9504 - val_acc: 0.8036\n",
      "Epoch 11/40\n",
      " - 1s - loss: 0.3977 - acc: 0.9113 - val_loss: 0.9498 - val_acc: 0.8075\n",
      "Epoch 12/40\n",
      " - 1s - loss: 0.3633 - acc: 0.9179 - val_loss: 0.9631 - val_acc: 0.8047\n",
      "Epoch 13/40\n",
      " - 1s - loss: 0.3218 - acc: 0.9264 - val_loss: 1.0068 - val_acc: 0.7924\n",
      "Epoch 14/40\n",
      " - 1s - loss: 0.2948 - acc: 0.9324 - val_loss: 0.9891 - val_acc: 0.8002\n",
      "Epoch 15/40\n",
      " - 1s - loss: 0.2659 - acc: 0.9370 - val_loss: 1.0417 - val_acc: 0.7913\n",
      "Epoch 16/40\n",
      " - 1s - loss: 0.2488 - acc: 0.9432 - val_loss: 1.0341 - val_acc: 0.7963\n",
      "2246/2246 [==============================] - 0s 137us/step\n",
      "test loss:  1.0677770640525241 test accuracy:  0.796527159394479\n"
     ]
    }
   ],
   "source": [
    "history = network2.fit(train_data_token, one_hot_train_labels,\n",
    "          batch_size=512,\n",
    "          epochs=40,\n",
    "          validation_split=0.2,\n",
    "          callbacks=[early_stop], \n",
    "          verbose=2)\n",
    "\n",
    "test_loss2, test_acc2 = network2.evaluate(test_data_token, one_hot_test_labels)\n",
    "\n",
    "print(\"test loss: \", test_loss2, \"test accuracy: \", test_acc2)"
   ]
  },
  {
   "cell_type": "markdown",
   "metadata": {},
   "source": [
    "## Predicting Student Admissions\n",
    "\n",
    "---\n",
    "\n",
    "Predict student admissions based on three pieces of data:\n",
    "\n",
    "- GRE Scores\n",
    "- GPA Scores\n",
    "- Class rank"
   ]
  },
  {
   "cell_type": "markdown",
   "metadata": {},
   "source": [
    "### Load and visualize the data"
   ]
  },
  {
   "cell_type": "code",
   "execution_count": 199,
   "metadata": {},
   "outputs": [
    {
     "name": "stdout",
     "output_type": "stream",
     "text": [
      "     admit  gre   gpa  rank\n",
      "0        0  380  3.61     3\n",
      "1        1  660  3.67     3\n",
      "2        1  800  4.00     1\n",
      "3        1  640  3.19     4\n",
      "4        0  520  2.93     4\n",
      "5        1  760  3.00     2\n",
      "6        1  560  2.98     1\n",
      "7        0  400  3.08     2\n",
      "8        1  540  3.39     3\n",
      "9        0  700  3.92     2\n",
      "10       0  800  4.00     4\n",
      "11       0  440  3.22     1\n",
      "12       1  760  4.00     1\n",
      "13       0  700  3.08     2\n",
      "14       1  700  4.00     1\n",
      "15       0  480  3.44     3\n",
      "16       0  780  3.87     4\n",
      "17       0  360  2.56     3\n",
      "18       0  800  3.75     2\n",
      "19       1  540  3.81     1\n",
      "20       0  500  3.17     3\n",
      "21       1  660  3.63     2\n",
      "22       0  600  2.82     4\n",
      "23       0  680  3.19     4\n",
      "24       1  760  3.35     2\n",
      "25       1  800  3.66     1\n",
      "26       1  620  3.61     1\n",
      "27       1  520  3.74     4\n",
      "28       1  780  3.22     2\n",
      "29       0  520  3.29     1\n",
      "..     ...  ...   ...   ...\n",
      "369      1  540  3.77     2\n",
      "370      1  680  3.76     3\n",
      "371      1  680  2.42     1\n",
      "372      1  620  3.37     1\n",
      "373      0  560  3.78     2\n",
      "374      0  560  3.49     4\n",
      "375      0  620  3.63     2\n",
      "376      1  800  4.00     2\n",
      "377      0  640  3.12     3\n",
      "378      0  540  2.70     2\n",
      "379      0  700  3.65     2\n",
      "380      1  540  3.49     2\n",
      "381      0  540  3.51     2\n",
      "382      0  660  4.00     1\n",
      "383      1  480  2.62     2\n",
      "384      0  420  3.02     1\n",
      "385      1  740  3.86     2\n",
      "386      0  580  3.36     2\n",
      "387      0  640  3.17     2\n",
      "388      0  640  3.51     2\n",
      "389      1  800  3.05     2\n",
      "390      1  660  3.88     2\n",
      "391      1  600  3.38     3\n",
      "392      1  620  3.75     2\n",
      "393      1  460  3.99     3\n",
      "394      0  620  4.00     2\n",
      "395      0  560  3.04     3\n",
      "396      0  460  2.63     2\n",
      "397      0  700  3.65     2\n",
      "398      0  600  3.89     3\n",
      "\n",
      "[399 rows x 4 columns]\n"
     ]
    }
   ],
   "source": [
    "student_data = pd.read_csv(\"student_data.csv\")\n",
    "print(student_data)"
   ]
  },
  {
   "cell_type": "markdown",
   "metadata": {},
   "source": [
    "Plot of the GRE and the GPA from the data."
   ]
  },
  {
   "cell_type": "code",
   "execution_count": 200,
   "metadata": {},
   "outputs": [
    {
     "data": {
      "image/png": "[encoded data removed]",
      "text/plain": [
       "<Figure size 432x288 with 1 Axes>"
      ]
     },
     "metadata": {
      "needs_background": "light"
     },
     "output_type": "display_data"
    }
   ],
   "source": [
    "X = np.array(student_data[[\"gre\",\"gpa\"]])\n",
    "y = np.array(student_data[\"admit\"])\n",
    "admitted = X[np.argwhere(y==1)]\n",
    "rejected = X[np.argwhere(y==0)]\n",
    "plt.scatter([s[0][0] for s in rejected], [s[0][1] for s in rejected], s = 25, color = 'red', edgecolor = 'k')\n",
    "plt.scatter([s[0][0] for s in admitted], [s[0][1] for s in admitted], s = 25, color = 'cyan', edgecolor = 'k')\n",
    "plt.xlabel('Test (GRE)')\n",
    "plt.ylabel('Grades (GPA)')\n",
    "\n",
    "plt.show()"
   ]
  },
  {
   "cell_type": "markdown",
   "metadata": {},
   "source": [
    "Plot of the data by class rank."
   ]
  },
  {
   "cell_type": "code",
   "execution_count": 201,
   "metadata": {},
   "outputs": [
    {
     "data": {
      "image/png": "[encoded data removed]",
      "text/plain": [
       "<Figure size 1440x720 with 4 Axes>"
      ]
     },
     "metadata": {
      "needs_background": "light"
     },
     "output_type": "display_data"
    }
   ],
   "source": [
    "f, plots = plt.subplots(2, 2, figsize=(20,10))\n",
    "plots = [plot for sublist in plots for plot in sublist]\n",
    "\n",
    "for idx, plot in enumerate(plots):\n",
    "    data_rank = student_data[student_data[\"rank\"]==idx+1]\n",
    "    plot.set_title(\"Rank \" + str(idx+1))\n",
    "    X = np.array(data_rank[[\"gre\",\"gpa\"]])\n",
    "    y = np.array(data_rank[\"admit\"])\n",
    "    admitted = X[np.argwhere(y==1)]\n",
    "    rejected = X[np.argwhere(y==0)]\n",
    "    plot.scatter([s[0][0] for s in rejected], [s[0][1] for s in rejected], s = 25, color = 'red', edgecolor = 'k')\n",
    "    plot.scatter([s[0][0] for s in admitted], [s[0][1] for s in admitted], s = 25, color = 'cyan', edgecolor = 'k')\n",
    "    plot.set_xlabel('Test (GRE)')\n",
    "    plot.set_ylabel('Grades (GPA)')\n",
    "    "
   ]
  },
  {
   "cell_type": "markdown",
   "metadata": {},
   "source": [
    "#### TO DO: Preprocess the data\n",
    "\n",
    "1. Normalize the input data set\n",
    "2. Perform one hot encoding\n",
    "3. Create a train, test, and validation set"
   ]
  },
  {
   "cell_type": "code",
   "execution_count": 202,
   "metadata": {
    "scrolled": true
   },
   "outputs": [
    {
     "name": "stdout",
     "output_type": "stream",
     "text": [
      "(300, 6)\n",
      "(300, 2)\n",
      "(99, 6)\n",
      "(99, 2)\n"
     ]
    }
   ],
   "source": [
    "labels = np.array(student_data[\"admit\"])\n",
    "\n",
    "gre = np.array(student_data[\"gre\"])\n",
    "avg_gre = np.average(gre)\n",
    "std_gre = np.std(gre)\n",
    "\n",
    "gpa = np.array(student_data[\"gpa\"])\n",
    "avg_gpa = np.average(gpa)\n",
    "std_gpa = np.std(gpa)\n",
    "\n",
    "rank = np.array(student_data[[\"rank\"]])\n",
    "\n",
    "# Normal data\n",
    "gre = (gre-avg_gre)/std_gre\n",
    "gpa = (gpa-avg_gpa)/std_gpa\n",
    "rank = to_categorical(rank-1)\n",
    "\n",
    "inputs = np.zeros((len(data),6))\n",
    "\n",
    "inputs[:,0] = gre\n",
    "inputs[:,1] = gpa\n",
    "inputs[:,2:6] = rank\n",
    "\n",
    "train_data = inputs[:300]\n",
    "train_labels = to_categorical(labels[:300])\n",
    "\n",
    "test_data = inputs [300:]\n",
    "test_labels = to_categorical(labels[300:])\n",
    "\n",
    "print (train_data.shape)\n",
    "print (train_labels.shape)\n",
    "print (test_data.shape)\n",
    "print (test_labels.shape)"
   ]
  },
  {
   "cell_type": "markdown",
   "metadata": {},
   "source": [
    "# TO DO: Define and train a network, then plot the accuracy of the training, validation, and testing\n",
    "\n",
    "1. Use a validation set\n",
    "2. Propose and train a network\n",
    "3. Print the history of the training\n",
    "4. Evaluate with a test set"
   ]
  },
  {
   "cell_type": "code",
   "execution_count": 203,
   "metadata": {},
   "outputs": [
    {
     "name": "stdout",
     "output_type": "stream",
     "text": [
      "_________________________________________________________________\n",
      "Layer (type)                 Output Shape              Param #   \n",
      "=================================================================\n",
      "dense_94 (Dense)             (None, 128)               896       \n",
      "_________________________________________________________________\n",
      "dropout_52 (Dropout)         (None, 128)               0         \n",
      "_________________________________________________________________\n",
      "dense_95 (Dense)             (None, 16)                2064      \n",
      "_________________________________________________________________\n",
      "dropout_53 (Dropout)         (None, 16)                0         \n",
      "_________________________________________________________________\n",
      "dense_96 (Dense)             (None, 2)                 34        \n",
      "=================================================================\n",
      "Total params: 2,994\n",
      "Trainable params: 2,994\n",
      "Non-trainable params: 0\n",
      "_________________________________________________________________\n"
     ]
    }
   ],
   "source": [
    "network3 = models.Sequential()\n",
    "\n",
    "network3.add(layers.Dense(128, activation='relu', input_dim=6))\n",
    "network3.add(layers.Dropout(0.3))\n",
    "network3.add(layers.Dense(16, activation='relu'))\n",
    "network3.add(layers.Dropout(0.1))\n",
    "network3.add(layers.Dense(2, activation='softmax'))\n",
    "network3.summary()\n",
    "\n",
    "# included the early stopping which monitors the validation loss\n",
    "early_stop = callbacks.EarlyStopping(monitor='val_loss', patience=5)\n",
    "network3.compile(loss='binary_crossentropy', \n",
    "              optimizer='rmsprop',\n",
    "              metrics=['accuracy'])"
   ]
  },
  {
   "cell_type": "code",
   "execution_count": 204,
   "metadata": {},
   "outputs": [
    {
     "name": "stdout",
     "output_type": "stream",
     "text": [
      "Train on 270 samples, validate on 30 samples\n",
      "Epoch 1/100\n",
      " - 1s - loss: 0.7146 - acc: 0.5037 - val_loss: 0.6694 - val_acc: 0.7333\n",
      "Epoch 2/100\n",
      " - 0s - loss: 0.6674 - acc: 0.6185 - val_loss: 0.6497 - val_acc: 0.7000\n",
      "Epoch 3/100\n",
      " - 0s - loss: 0.6575 - acc: 0.6185 - val_loss: 0.6363 - val_acc: 0.6667\n",
      "Epoch 4/100\n",
      " - 0s - loss: 0.6358 - acc: 0.6741 - val_loss: 0.6258 - val_acc: 0.6333\n",
      "Epoch 5/100\n",
      " - 0s - loss: 0.6307 - acc: 0.6704 - val_loss: 0.6166 - val_acc: 0.6333\n",
      "Epoch 6/100\n",
      " - 0s - loss: 0.6094 - acc: 0.6926 - val_loss: 0.6076 - val_acc: 0.6667\n",
      "Epoch 7/100\n",
      " - 0s - loss: 0.6140 - acc: 0.6889 - val_loss: 0.6008 - val_acc: 0.6667\n",
      "Epoch 8/100\n",
      " - 0s - loss: 0.5944 - acc: 0.6889 - val_loss: 0.5948 - val_acc: 0.6667\n",
      "Epoch 9/100\n",
      " - 0s - loss: 0.5956 - acc: 0.7000 - val_loss: 0.5910 - val_acc: 0.6667\n",
      "Epoch 10/100\n",
      " - 0s - loss: 0.5872 - acc: 0.7037 - val_loss: 0.5872 - val_acc: 0.6667\n",
      "Epoch 11/100\n",
      " - 0s - loss: 0.5821 - acc: 0.7370 - val_loss: 0.5839 - val_acc: 0.6667\n",
      "Epoch 12/100\n",
      " - 0s - loss: 0.5785 - acc: 0.7185 - val_loss: 0.5798 - val_acc: 0.6667\n",
      "Epoch 13/100\n",
      " - 0s - loss: 0.5762 - acc: 0.7185 - val_loss: 0.5772 - val_acc: 0.6667\n",
      "Epoch 14/100\n",
      " - 0s - loss: 0.5639 - acc: 0.7074 - val_loss: 0.5745 - val_acc: 0.6667\n",
      "Epoch 15/100\n",
      " - 0s - loss: 0.5729 - acc: 0.7185 - val_loss: 0.5729 - val_acc: 0.6667\n",
      "Epoch 16/100\n",
      " - 0s - loss: 0.5735 - acc: 0.7259 - val_loss: 0.5711 - val_acc: 0.6667\n",
      "Epoch 17/100\n",
      " - 0s - loss: 0.5701 - acc: 0.7296 - val_loss: 0.5692 - val_acc: 0.6667\n",
      "Epoch 18/100\n",
      " - 0s - loss: 0.5623 - acc: 0.7481 - val_loss: 0.5679 - val_acc: 0.6667\n",
      "Epoch 19/100\n",
      " - 0s - loss: 0.5679 - acc: 0.7333 - val_loss: 0.5667 - val_acc: 0.6667\n",
      "Epoch 20/100\n",
      " - 0s - loss: 0.5539 - acc: 0.7148 - val_loss: 0.5657 - val_acc: 0.6667\n",
      "Epoch 21/100\n",
      " - 0s - loss: 0.5449 - acc: 0.7148 - val_loss: 0.5649 - val_acc: 0.6667\n",
      "Epoch 22/100\n",
      " - 0s - loss: 0.5683 - acc: 0.7407 - val_loss: 0.5643 - val_acc: 0.6667\n",
      "Epoch 23/100\n",
      " - 0s - loss: 0.5588 - acc: 0.7296 - val_loss: 0.5637 - val_acc: 0.6667\n",
      "Epoch 24/100\n",
      " - 0s - loss: 0.5561 - acc: 0.7296 - val_loss: 0.5633 - val_acc: 0.6667\n",
      "Epoch 25/100\n",
      " - 0s - loss: 0.5391 - acc: 0.7444 - val_loss: 0.5631 - val_acc: 0.7000\n",
      "Epoch 26/100\n",
      " - 0s - loss: 0.5572 - acc: 0.7222 - val_loss: 0.5626 - val_acc: 0.7000\n",
      "Epoch 27/100\n",
      " - 0s - loss: 0.5524 - acc: 0.7259 - val_loss: 0.5621 - val_acc: 0.7000\n",
      "Epoch 28/100\n",
      " - 0s - loss: 0.5591 - acc: 0.7296 - val_loss: 0.5621 - val_acc: 0.7000\n",
      "Epoch 29/100\n",
      " - 0s - loss: 0.5528 - acc: 0.7370 - val_loss: 0.5626 - val_acc: 0.7000\n",
      "Epoch 30/100\n",
      " - 0s - loss: 0.5438 - acc: 0.7185 - val_loss: 0.5624 - val_acc: 0.7000\n",
      "Epoch 31/100\n",
      " - 0s - loss: 0.5523 - acc: 0.7333 - val_loss: 0.5624 - val_acc: 0.7000\n",
      "Epoch 32/100\n",
      " - 0s - loss: 0.5422 - acc: 0.7444 - val_loss: 0.5628 - val_acc: 0.7000\n",
      "99/99 [==============================] - 0s 24us/step\n",
      "test loss:  1.0677770640525241 test accuracy:  0.796527159394479\n"
     ]
    }
   ],
   "source": [
    "history = network3.fit(train_data, train_labels,\n",
    "          batch_size=512,\n",
    "          epochs=100,\n",
    "          validation_split=0.1,\n",
    "          callbacks=[early_stop], \n",
    "          verbose=2)\n",
    "\n",
    "test_loss3, test_acc3 = network3.evaluate(test_data, test_labels)\n",
    "\n",
    "print(\"test loss: \", test_loss2, \"test accuracy: \", test_acc2)"
   ]
  },
  {
   "cell_type": "code",
   "execution_count": null,
   "metadata": {},
   "outputs": [],
   "source": []
  }
 ],
 "metadata": {
  "kernelspec": {
   "display_name": "Python 3",
   "language": "python",
   "name": "python3"
  },
  "language_info": {
   "codemirror_mode": {
    "name": "ipython",
    "version": 3
   },
   "file_extension": ".py",
   "mimetype": "text/x-python",
   "name": "python",
   "nbconvert_exporter": "python",
   "pygments_lexer": "ipython3",
   "version": "3.6.8"
  }
 },
 "nbformat": 4,
 "nbformat_minor": 2
}
